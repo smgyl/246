{
  "nbformat": 4,
  "nbformat_minor": 0,
  "metadata": {
    "colab": {
      "name": "246_NN.ipynb",
      "provenance": [],
      "collapsed_sections": [],
      "authorship_tag": "ABX9TyPrEKc+KmIIlN6riYOHICMm",
      "include_colab_link": true
    },
    "kernelspec": {
      "name": "python3",
      "display_name": "Python 3"
    },
    "accelerator": "GPU"
  },
  "cells": [
    {
      "cell_type": "markdown",
      "metadata": {
        "id": "view-in-github",
        "colab_type": "text"
      },
      "source": [
        "<a href=\"https://colab.research.google.com/github/smgyl/246/blob/main/246_NN.ipynb\" target=\"_parent\"><img src=\"https://colab.research.google.com/assets/colab-badge.svg\" alt=\"Open In Colab\"/></a>"
      ]
    },
    {
      "cell_type": "code",
      "metadata": {
        "colab": {
          "base_uri": "https://localhost:8080/"
        },
        "id": "gTuRsdQoxSIe",
        "outputId": "aa9ace79-c5ae-42e5-ac79-85d40c11656c"
      },
      "source": [
        "import numpy as np\n",
        "\n",
        "\n",
        "import pandas as pd\n",
        "import warnings\n",
        "warnings.filterwarnings('ignore')\n",
        "from datetime import datetime\n",
        "from sklearn.model_selection import train_test_split\n",
        "from sklearn.linear_model import Lasso, LogisticRegression, LogisticRegressionCV\n",
        "from sklearn.feature_selection import SelectFromModel\n",
        "from sklearn.preprocessing import StandardScaler\n",
        "from sklearn.metrics import accuracy_score, auc, roc_curve, plot_roc_curve\n",
        "from tqdm import tqdm\n",
        "from google.colab import drive\n",
        "drive.mount('/content/drive')\n",
        "import matplotlib.pyplot as plt\n",
        "from imblearn.over_sampling import SMOTE\n",
        "from collections import Counter\n",
        "from keras.models import Sequential\n",
        "from keras.layers import Dense\n"
      ],
      "execution_count": 3,
      "outputs": [
        {
          "output_type": "stream",
          "text": [
            "Mounted at /content/drive\n"
          ],
          "name": "stdout"
        }
      ]
    },
    {
      "cell_type": "code",
      "metadata": {
        "id": "Vil_8gwUxgI4"
      },
      "source": [
        "import os\n",
        "os.chdir('drive/Shareddrives/MS&E 246')"
      ],
      "execution_count": 4,
      "outputs": []
    },
    {
      "cell_type": "code",
      "metadata": {
        "colab": {
          "base_uri": "https://localhost:8080/"
        },
        "id": "IqYJexc_xoRl",
        "outputId": "c58e654d-38af-457b-ae25-9eb6ebc1b2e0"
      },
      "source": [
        "data = pd.read_csv(\"PreprocessedDset.csv\",low_memory = False)\n",
        "print(data.columns)\n",
        "final_data = data"
      ],
      "execution_count": 6,
      "outputs": [
        {
          "output_type": "stream",
          "text": [
            "Index(['Unnamed: 0', 'BorrState', 'GrossApproval', 'TermInMonths',\n",
            "       'ProjectState', 'GrossChargeOffAmount', 'GDPBS', 'TOPIsBS', 'CompBS',\n",
            "       'SubBS',\n",
            "       ...\n",
            "       'norm_PCEPS', 'norm_perPCEPS', 'norm_EMPS', 'norm_wsEMPS', 'norm_PIPS',\n",
            "       'norm_wsPS', 'norm_ProIPS', 'norm_FIPS', 'norm_PTPS', 'norm_perPIPS'],\n",
            "      dtype='object', length=135)\n"
          ],
          "name": "stdout"
        }
      ]
    },
    {
      "cell_type": "code",
      "metadata": {
        "colab": {
          "base_uri": "https://localhost:8080/"
        },
        "id": "zT4KQb2pxxRC",
        "outputId": "d38ce96a-5efd-482c-c09a-090385d8f9f0"
      },
      "source": [
        "missing_macro = final_data.columns[final_data.isna().any()].tolist()\n",
        "final_data = final_data.drop(columns=missing_macro)\n",
        "final_data = final_data.drop(columns=['Unnamed: 0','BorrState','ProjectState', 'GrossApproval','ApprovalDate_SNP','PIBS', 'ProIBS', 'FIBS',\n",
        "       'PTBS', 'perPIBS', 'PIPS', 'ProIPS', 'FIPS', 'PTPS', 'perPIPS','ApprovalDate_LogSNP',\n",
        "       'BorrStateUnem', 'ProjStateUnem', 'BorrStateUnem_CharOffYr',\n",
        "       'ProjStateUnem_CharOffYr','log_GrossApproval','TermInMonths','norm_BorrStateUnem_COY','norm_ProjStateUnem_COY'])\n",
        "print(final_data.columns)"
      ],
      "execution_count": 7,
      "outputs": [
        {
          "output_type": "stream",
          "text": [
            "Index(['GrossChargeOffAmount', 'IfRepBorr', 'BorrState=ProjState',\n",
            "       'BorrState=CDCState', 'IfChargeOff', 'ThirdPartyDollar_PCT', 'NC_11',\n",
            "       'NC_21', 'NC_22', 'NC_23', 'NC_31', 'NC_32', 'NC_33', 'NC_42', 'NC_44',\n",
            "       'NC_45', 'NC_48', 'NC_49', 'NC_51', 'NC_52', 'NC_53', 'NC_54', 'NC_55',\n",
            "       'NC_56', 'NC_61', 'NC_62', 'NC_71', 'NC_72', 'NC_81', 'NC_92', 'NC_99',\n",
            "       'NC_na', 'DelMeth_504', 'DelMeth_504REFI', 'DelMeth_ALP',\n",
            "       'DelMeth_PCLP', 'BusType_CORPORATION', 'BusType_INDIVIDUAL',\n",
            "       'BusType_PARTNERSHIP', 'TermIsYear', 'norm_logGrossAppv',\n",
            "       'norm_TermInMonths', 'norm_logSNP', 'norm_BorrStateUnem',\n",
            "       'norm_ProjStateUnem', 'norm_PIBS', 'norm_ProIBS', 'norm_FIBS',\n",
            "       'norm_PTBS', 'norm_perPIBS', 'norm_PIPS', 'norm_ProIPS', 'norm_FIPS',\n",
            "       'norm_PTPS', 'norm_perPIPS'],\n",
            "      dtype='object')\n"
          ],
          "name": "stdout"
        }
      ]
    },
    {
      "cell_type": "code",
      "metadata": {
        "colab": {
          "base_uri": "https://localhost:8080/"
        },
        "id": "ID_8I3y9x01M",
        "outputId": "3bf77285-ace8-4d3f-86f7-2c2b718e8c7a"
      },
      "source": [
        "final_data['IfChargeOff'], final_data['GrossChargeOffAmount'] = final_data.pop('IfChargeOff'), final_data.pop('GrossChargeOffAmount')\n",
        "print(final_data.columns)\n",
        "print(final_data.columns.shape)"
      ],
      "execution_count": 8,
      "outputs": [
        {
          "output_type": "stream",
          "text": [
            "Index(['IfRepBorr', 'BorrState=ProjState', 'BorrState=CDCState',\n",
            "       'ThirdPartyDollar_PCT', 'NC_11', 'NC_21', 'NC_22', 'NC_23', 'NC_31',\n",
            "       'NC_32', 'NC_33', 'NC_42', 'NC_44', 'NC_45', 'NC_48', 'NC_49', 'NC_51',\n",
            "       'NC_52', 'NC_53', 'NC_54', 'NC_55', 'NC_56', 'NC_61', 'NC_62', 'NC_71',\n",
            "       'NC_72', 'NC_81', 'NC_92', 'NC_99', 'NC_na', 'DelMeth_504',\n",
            "       'DelMeth_504REFI', 'DelMeth_ALP', 'DelMeth_PCLP', 'BusType_CORPORATION',\n",
            "       'BusType_INDIVIDUAL', 'BusType_PARTNERSHIP', 'TermIsYear',\n",
            "       'norm_logGrossAppv', 'norm_TermInMonths', 'norm_logSNP',\n",
            "       'norm_BorrStateUnem', 'norm_ProjStateUnem', 'norm_PIBS', 'norm_ProIBS',\n",
            "       'norm_FIBS', 'norm_PTBS', 'norm_perPIBS', 'norm_PIPS', 'norm_ProIPS',\n",
            "       'norm_FIPS', 'norm_PTPS', 'norm_perPIPS', 'IfChargeOff',\n",
            "       'GrossChargeOffAmount'],\n",
            "      dtype='object')\n",
            "(55,)\n"
          ],
          "name": "stdout"
        }
      ]
    },
    {
      "cell_type": "code",
      "metadata": {
        "colab": {
          "base_uri": "https://localhost:8080/"
        },
        "id": "uYcfMZ6_x4-V",
        "outputId": "9ecfd73e-afdb-4ddd-faef-afc450029503"
      },
      "source": [
        "X_train, X_test, y_train, y_test = train_test_split(\n",
        "    final_data.drop(labels=['IfChargeOff', 'GrossChargeOffAmount'], axis=1),\n",
        "    final_data['IfChargeOff'],\n",
        "    test_size=0.2,\n",
        "    random_state=0)\n",
        "X_train, X_valid, y_train, y_valid = train_test_split(X_train, y_train, test_size=0.1, random_state=0)\n",
        "\n",
        "print(X_train.shape, y_train.shape)\n",
        "print(X_valid.shape, y_valid.shape) \n",
        "print(X_test.shape, y_test.shape)\n",
        "print(X_train.columns)"
      ],
      "execution_count": 9,
      "outputs": [
        {
          "output_type": "stream",
          "text": [
            "(38916, 53) (38916,)\n",
            "(4325, 53) (4325,)\n",
            "(10811, 53) (10811,)\n",
            "Index(['IfRepBorr', 'BorrState=ProjState', 'BorrState=CDCState',\n",
            "       'ThirdPartyDollar_PCT', 'NC_11', 'NC_21', 'NC_22', 'NC_23', 'NC_31',\n",
            "       'NC_32', 'NC_33', 'NC_42', 'NC_44', 'NC_45', 'NC_48', 'NC_49', 'NC_51',\n",
            "       'NC_52', 'NC_53', 'NC_54', 'NC_55', 'NC_56', 'NC_61', 'NC_62', 'NC_71',\n",
            "       'NC_72', 'NC_81', 'NC_92', 'NC_99', 'NC_na', 'DelMeth_504',\n",
            "       'DelMeth_504REFI', 'DelMeth_ALP', 'DelMeth_PCLP', 'BusType_CORPORATION',\n",
            "       'BusType_INDIVIDUAL', 'BusType_PARTNERSHIP', 'TermIsYear',\n",
            "       'norm_logGrossAppv', 'norm_TermInMonths', 'norm_logSNP',\n",
            "       'norm_BorrStateUnem', 'norm_ProjStateUnem', 'norm_PIBS', 'norm_ProIBS',\n",
            "       'norm_FIBS', 'norm_PTBS', 'norm_perPIBS', 'norm_PIPS', 'norm_ProIPS',\n",
            "       'norm_FIPS', 'norm_PTPS', 'norm_perPIPS'],\n",
            "      dtype='object')\n"
          ],
          "name": "stdout"
        }
      ]
    },
    {
      "cell_type": "code",
      "metadata": {
        "colab": {
          "base_uri": "https://localhost:8080/"
        },
        "id": "Azo_5dTqx9Eg",
        "outputId": "3d920f76-21e8-4727-820b-3868c6f8d301"
      },
      "source": [
        "sm = SMOTE(sampling_strategy = 1)\n",
        "X_train_sm, y_train_sm = sm.fit_resample(X_train, y_train)\n",
        "print(\"Resampled dataset shape %s.\" % Counter(y_train_sm))\n",
        "X_train_sm = pd.DataFrame(X_train_sm, columns = X_train.columns)\n",
        "y_train_sm = pd.DataFrame(y_train_sm)\n"
      ],
      "execution_count": 10,
      "outputs": [
        {
          "output_type": "stream",
          "text": [
            "Resampled dataset shape Counter({0: 32549, 1: 32549}).\n"
          ],
          "name": "stdout"
        }
      ]
    },
    {
      "cell_type": "code",
      "metadata": {
        "colab": {
          "base_uri": "https://localhost:8080/"
        },
        "id": "4RPL6yj22I4H",
        "outputId": "353bcb96-0080-4a0a-aad5-4529c21c201b"
      },
      "source": [
        "\n",
        "X = X_train_sm\n",
        "y = y_train_sm\n",
        "# define the keras model\n",
        "model = Sequential()\n",
        "model.add(Dense(12, input_dim=53, activation='relu'))\n",
        "model.add(Dense(8, activation='relu'))\n",
        "model.add(Dense(1, activation='sigmoid'))\n",
        "# compile the keras model\n",
        "model.compile(loss='binary_crossentropy', optimizer='adam', metrics=['accuracy'])\n",
        "# fit the keras model on the dataset\n",
        "model.fit(X, y, epochs=50, batch_size=20)\n",
        "# evaluate the keras model\n",
        "_, accuracy = model.evaluate(X, y)\n",
        "print('Accuracy: %.2f' % (accuracy*100))"
      ],
      "execution_count": 11,
      "outputs": [
        {
          "output_type": "stream",
          "text": [
            "Epoch 1/50\n",
            "3255/3255 [==============================] - 9s 2ms/step - loss: 0.5565 - accuracy: 0.7312\n",
            "Epoch 2/50\n",
            "3255/3255 [==============================] - 8s 2ms/step - loss: 0.4943 - accuracy: 0.7669\n",
            "Epoch 3/50\n",
            "3255/3255 [==============================] - 7s 2ms/step - loss: 0.4882 - accuracy: 0.7699\n",
            "Epoch 4/50\n",
            "3255/3255 [==============================] - 7s 2ms/step - loss: 0.4812 - accuracy: 0.7759\n",
            "Epoch 5/50\n",
            "3255/3255 [==============================] - 7s 2ms/step - loss: 0.4788 - accuracy: 0.7769\n",
            "Epoch 6/50\n",
            "3255/3255 [==============================] - 7s 2ms/step - loss: 0.4750 - accuracy: 0.7794\n",
            "Epoch 7/50\n",
            "3255/3255 [==============================] - 7s 2ms/step - loss: 0.4743 - accuracy: 0.7802\n",
            "Epoch 8/50\n",
            "3255/3255 [==============================] - 7s 2ms/step - loss: 0.4755 - accuracy: 0.7780\n",
            "Epoch 9/50\n",
            "3255/3255 [==============================] - 7s 2ms/step - loss: 0.4716 - accuracy: 0.7826\n",
            "Epoch 10/50\n",
            "3255/3255 [==============================] - 7s 2ms/step - loss: 0.4695 - accuracy: 0.7831\n",
            "Epoch 11/50\n",
            "3255/3255 [==============================] - 7s 2ms/step - loss: 0.4710 - accuracy: 0.7828\n",
            "Epoch 12/50\n",
            "3255/3255 [==============================] - 7s 2ms/step - loss: 0.4677 - accuracy: 0.7841\n",
            "Epoch 13/50\n",
            "3255/3255 [==============================] - 7s 2ms/step - loss: 0.4655 - accuracy: 0.7855\n",
            "Epoch 14/50\n",
            "3255/3255 [==============================] - 7s 2ms/step - loss: 0.4619 - accuracy: 0.7863\n",
            "Epoch 15/50\n",
            "3255/3255 [==============================] - 7s 2ms/step - loss: 0.4627 - accuracy: 0.7874\n",
            "Epoch 16/50\n",
            "3255/3255 [==============================] - 7s 2ms/step - loss: 0.4652 - accuracy: 0.7856\n",
            "Epoch 17/50\n",
            "3255/3255 [==============================] - 7s 2ms/step - loss: 0.4676 - accuracy: 0.7824\n",
            "Epoch 18/50\n",
            "3255/3255 [==============================] - 8s 2ms/step - loss: 0.4620 - accuracy: 0.7878\n",
            "Epoch 19/50\n",
            "3255/3255 [==============================] - 7s 2ms/step - loss: 0.4615 - accuracy: 0.7851\n",
            "Epoch 20/50\n",
            "3255/3255 [==============================] - 7s 2ms/step - loss: 0.4578 - accuracy: 0.7903\n",
            "Epoch 21/50\n",
            "3255/3255 [==============================] - 7s 2ms/step - loss: 0.4571 - accuracy: 0.7920\n",
            "Epoch 22/50\n",
            "3255/3255 [==============================] - 7s 2ms/step - loss: 0.4616 - accuracy: 0.7869\n",
            "Epoch 23/50\n",
            "3255/3255 [==============================] - 7s 2ms/step - loss: 0.4526 - accuracy: 0.7916\n",
            "Epoch 24/50\n",
            "3255/3255 [==============================] - 7s 2ms/step - loss: 0.4548 - accuracy: 0.7912\n",
            "Epoch 25/50\n",
            "3255/3255 [==============================] - 7s 2ms/step - loss: 0.4544 - accuracy: 0.7918\n",
            "Epoch 26/50\n",
            "3255/3255 [==============================] - 7s 2ms/step - loss: 0.4541 - accuracy: 0.7921\n",
            "Epoch 27/50\n",
            "3255/3255 [==============================] - 7s 2ms/step - loss: 0.4552 - accuracy: 0.7904\n",
            "Epoch 28/50\n",
            "3255/3255 [==============================] - 8s 2ms/step - loss: 0.4498 - accuracy: 0.7934\n",
            "Epoch 29/50\n",
            "3255/3255 [==============================] - 7s 2ms/step - loss: 0.4505 - accuracy: 0.7919\n",
            "Epoch 30/50\n",
            "3255/3255 [==============================] - 7s 2ms/step - loss: 0.4503 - accuracy: 0.7923\n",
            "Epoch 31/50\n",
            "3255/3255 [==============================] - 8s 2ms/step - loss: 0.4525 - accuracy: 0.7929\n",
            "Epoch 32/50\n",
            "3255/3255 [==============================] - 7s 2ms/step - loss: 0.4478 - accuracy: 0.7943\n",
            "Epoch 33/50\n",
            "3255/3255 [==============================] - 7s 2ms/step - loss: 0.4473 - accuracy: 0.7953\n",
            "Epoch 34/50\n",
            "3255/3255 [==============================] - 7s 2ms/step - loss: 0.4505 - accuracy: 0.7933\n",
            "Epoch 35/50\n",
            "3255/3255 [==============================] - 7s 2ms/step - loss: 0.4457 - accuracy: 0.7964\n",
            "Epoch 36/50\n",
            "3255/3255 [==============================] - 8s 2ms/step - loss: 0.4464 - accuracy: 0.7941\n",
            "Epoch 37/50\n",
            "3255/3255 [==============================] - 7s 2ms/step - loss: 0.4455 - accuracy: 0.7962\n",
            "Epoch 38/50\n",
            "3255/3255 [==============================] - 7s 2ms/step - loss: 0.4448 - accuracy: 0.7952\n",
            "Epoch 39/50\n",
            "3255/3255 [==============================] - 7s 2ms/step - loss: 0.4459 - accuracy: 0.7966\n",
            "Epoch 40/50\n",
            "3255/3255 [==============================] - 7s 2ms/step - loss: 0.4446 - accuracy: 0.7970\n",
            "Epoch 41/50\n",
            "3255/3255 [==============================] - 7s 2ms/step - loss: 0.4451 - accuracy: 0.7978\n",
            "Epoch 42/50\n",
            "3255/3255 [==============================] - 8s 2ms/step - loss: 0.4451 - accuracy: 0.7959\n",
            "Epoch 43/50\n",
            "3255/3255 [==============================] - 7s 2ms/step - loss: 0.4445 - accuracy: 0.7981\n",
            "Epoch 44/50\n",
            "3255/3255 [==============================] - 7s 2ms/step - loss: 0.4476 - accuracy: 0.7929\n",
            "Epoch 45/50\n",
            "3255/3255 [==============================] - 8s 2ms/step - loss: 0.4423 - accuracy: 0.7958\n",
            "Epoch 46/50\n",
            "3255/3255 [==============================] - 8s 2ms/step - loss: 0.4467 - accuracy: 0.7954\n",
            "Epoch 47/50\n",
            "3255/3255 [==============================] - 7s 2ms/step - loss: 0.4390 - accuracy: 0.7999\n",
            "Epoch 48/50\n",
            "3255/3255 [==============================] - 7s 2ms/step - loss: 0.4426 - accuracy: 0.7957\n",
            "Epoch 49/50\n",
            "3255/3255 [==============================] - 7s 2ms/step - loss: 0.4390 - accuracy: 0.8004\n",
            "Epoch 50/50\n",
            "3255/3255 [==============================] - 7s 2ms/step - loss: 0.4386 - accuracy: 0.7993\n",
            "2035/2035 [==============================] - 3s 2ms/step - loss: 0.4371 - accuracy: 0.8010\n",
            "Accuracy: 80.10\n"
          ],
          "name": "stdout"
        }
      ]
    },
    {
      "cell_type": "code",
      "metadata": {
        "colab": {
          "base_uri": "https://localhost:8080/"
        },
        "id": "6cgagcRh2-Ji",
        "outputId": "ab0b6762-9cef-4e10-cd2f-dfa3ec4c209b"
      },
      "source": [
        "\n",
        "y_pred = model.predict(X_valid)\n",
        "fpr, tpr, thresholds = roc_curve(y_valid, y_pred, pos_label=1)\n",
        "auc(fpr, tpr)"
      ],
      "execution_count": 16,
      "outputs": [
        {
          "output_type": "execute_result",
          "data": {
            "text/plain": [
              "0.8313540931124543"
            ]
          },
          "metadata": {
            "tags": []
          },
          "execution_count": 16
        }
      ]
    },
    {
      "cell_type": "code",
      "metadata": {
        "colab": {
          "base_uri": "https://localhost:8080/",
          "height": 295
        },
        "id": "Xq4j_qQb_ebm",
        "outputId": "131191fc-8042-43ef-92c6-a880642bd169"
      },
      "source": [
        "y_pred1 = model.predict(X_train_sm)\n",
        "fpr1 , tpr1, thresholds1 = roc_curve(y_train_sm,y_pred1)\n",
        "\n",
        "y_pred2 = model.predict(X_valid)\n",
        "fpr2 , tpr2, thresholds2 = roc_curve(y_valid, y_pred2)\n",
        "\n",
        "y_pred3 = model.predict(X_test)\n",
        "fpr3 , tpr3, thresholds3 = roc_curve(y_test, y_pred3)\n",
        "\n",
        "plt.plot(fpr1, tpr1, label= \"Training\")\n",
        "plt.plot(fpr2, tpr2, label= \"Validation\")\n",
        "plt.plot(fpr3, tpr3, label= \"Test\")\n",
        "plt.legend()\n",
        "plt.title('Receiver Operating Characteristic')\n",
        "plt.xlabel(\"FPR\")\n",
        "plt.ylabel(\"TPR\")\n",
        "plt.show()"
      ],
      "execution_count": 20,
      "outputs": [
        {
          "output_type": "display_data",
          "data": {
            "image/png": "[encoded data removed]",
            "text/plain": [
              "<Figure size 432x288 with 1 Axes>"
            ]
          },
          "metadata": {
            "tags": [],
            "needs_background": "light"
          }
        }
      ]
    }
  ]
}